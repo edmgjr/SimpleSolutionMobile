{
  "nbformat": 4,
  "nbformat_minor": 0,
  "metadata": {
    "colab": {
      "name": "2sGoogleSearchScraping.ipynb",
      "provenance": [],
      "authorship_tag": "ABX9TyMT6AylaxBM7TsK4hyx1eSU",
      "include_colab_link": true
    },
    "kernelspec": {
      "name": "python3",
      "display_name": "Python 3"
    }
  },
  "cells": [
    {
      "cell_type": "markdown",
      "metadata": {
        "id": "view-in-github",
        "colab_type": "text"
      },
      "source": [
        "<a href=\"https://colab.research.google.com/github/edmgjr/SimpleSolutionMobile/blob/master/2sGoogleSearchScraping.ipynb\" target=\"_parent\"><img src=\"https://colab.research.google.com/assets/colab-badge.svg\" alt=\"Open In Colab\"/></a>"
      ]
    },
    {
      "cell_type": "code",
      "metadata": {
        "id": "NeeWU_9Cq6Gw",
        "colab_type": "code",
        "colab": {}
      },
      "source": [
        "import urllib\n",
        "import requests\n",
        "from bs4 import BeautifulSoup"
      ],
      "execution_count": null,
      "outputs": []
    },
    {
      "cell_type": "code",
      "metadata": {
        "id": "ZV8mYh2KzvIk",
        "colab_type": "code",
        "colab": {}
      },
      "source": [
        "query = \"hackernoon How To Scrape Google With Python\"\n",
        "query = query.replace(' ', '+')\n",
        "URL = f\"https://google.com/search?q={query}\""
      ],
      "execution_count": null,
      "outputs": []
    },
    {
      "cell_type": "code",
      "metadata": {
        "id": "PYCurwGOzzmo",
        "colab_type": "code",
        "colab": {}
      },
      "source": [
        "# desktop user-agent\n",
        "USER_AGENT = \"Mozilla/5.0 (Macintosh; Intel Mac OS X 10.14; rv:65.0) Gecko/20100101 Firefox/65.0\"\n",
        "# mobile user-agent\n",
        "MOBILE_USER_AGENT = \"Mozilla/5.0 (Linux; Android 7.0; SM-G930V Build/NRD90M) AppleWebKit/537.36 (KHTML, like Gecko) Chrome/59.0.3071.125 Mobile Safari/537.36\""
      ],
      "execution_count": null,
      "outputs": []
    },
    {
      "cell_type": "code",
      "metadata": {
        "id": "tHdEcBLtz0xu",
        "colab_type": "code",
        "colab": {}
      },
      "source": [
        "headers = {\"user-agent\" : MOBILE_USER_AGENT}\n",
        "resp = requests.get(URL, headers=headers)"
      ],
      "execution_count": null,
      "outputs": []
    },
    {
      "cell_type": "code",
      "metadata": {
        "id": "-dm9qOWUz6NT",
        "colab_type": "code",
        "colab": {}
      },
      "source": [
        "if resp.status_code == 200:\n",
        "    soup = BeautifulSoup(resp.content, \"html.parser\")"
      ],
      "execution_count": null,
      "outputs": []
    },
    {
      "cell_type": "code",
      "metadata": {
        "id": "WZDF1pq0z_0j",
        "colab_type": "code",
        "colab": {
          "base_uri": "https://localhost:8080/",
          "height": 35
        },
        "outputId": "509efcbc-0733-4e54-fa08-5e7e0a1ffde3"
      },
      "source": [
        "results = []\n",
        "for g in soup.find_all('div', class_='r'):\n",
        "    anchors = g.find_all('a')\n",
        "    if anchors:\n",
        "        link = anchors[0]['href']\n",
        "        title = g.find('h3').text\n",
        "        item = {\n",
        "            \"title\": title,\n",
        "            \"link\": link\n",
        "        }\n",
        "        results.append(item)\n",
        "print(results)"
      ],
      "execution_count": null,
      "outputs": [
        {
          "output_type": "stream",
          "text": [
            "[]\n"
          ],
          "name": "stdout"
        }
      ]
    },
    {
      "cell_type": "code",
      "metadata": {
        "id": "fp-OXAXt0GRq",
        "colab_type": "code",
        "colab": {
          "base_uri": "https://localhost:8080/",
          "height": 55
        },
        "outputId": "f81114db-dc6f-43fb-af11-a7d512bda57d"
      },
      "source": [
        "import urllib\n",
        "import requests\n",
        "from bs4 import BeautifulSoup\n",
        "\n",
        "# desktop user-agent\n",
        "USER_AGENT = \"Mozilla/5.0 (Macintosh; Intel Mac OS X 10.14; rv:65.0) Gecko/20100101 Firefox/65.0\"\n",
        "# mobile user-agent\n",
        "MOBILE_USER_AGENT = \"Mozilla/5.0 (Linux; Android 7.0; SM-G930V Build/NRD90M) AppleWebKit/537.36 (KHTML, like Gecko) Chrome/59.0.3071.125 Mobile Safari/537.36\"\n",
        "\n",
        "query = \"hackernoon How To Scrape Google With Python\"\n",
        "query = query.replace(' ', '+')\n",
        "URL = f\"https://google.com/search?q={query}\"\n",
        "\n",
        "pro\n",
        "\n",
        "headers = {\"user-agent\": USER_AGENT}\n",
        "resp = requests.get(URL, headers=headers)\n",
        "\n",
        "if resp.status_code == 200:\n",
        "    soup = BeautifulSoup(resp.content, \"html.parser\")\n",
        "    results = []\n",
        "    for g in soup.find_all('div', class_='r'):\n",
        "        anchors = g.find_all('a')\n",
        "        if anchors:\n",
        "            link = anchors[0]['href']\n",
        "            title = g.find('h3').text\n",
        "            item = {\n",
        "                \"title\": title,\n",
        "                \"link\": link\n",
        "            }\n",
        "            results.append(item)\n",
        "    print(results)"
      ],
      "execution_count": null,
      "outputs": [
        {
          "output_type": "stream",
          "text": [
            "[{'title': 'How To Scrape Google With Python | Hacker Noon', 'link': 'https://hackernoon.com/how-to-scrape-google-with-python-bo7d2tal'}, {'title': 'How To Scrape Google With Python - Hacker Noon Community', 'link': 'https://community.hackernoon.com/t/how-to-scrape-google-with-python/23102'}, {'title': 'Mastering Python Web Scraping: Get Your Data Back | by ...', 'link': 'https://medium.com/hackernoon/mastering-python-web-scraping-get-your-data-back-e9a5cc653d88'}, {'title': 'Web Scraping Tutorial with Python: Tips and Tricks - Medium', 'link': 'https://medium.com/hackernoon/web-scraping-tutorial-with-python-tips-and-tricks-db070e70e071'}, {'title': 'Scraping and parsing Google search results using Python ...', 'link': 'https://stackoverflow.com/questions/7746832/scraping-and-parsing-google-search-results-using-python'}, {'title': 'Hacker Noon on Twitter: \"\"How To Scrape Google With Python ...', 'link': 'https://twitter.com/hackernoon/status/1222066786654466048'}, {'title': 'How To Scrape Google With Python - CoLaBug.com', 'link': 'https://www.colabug.com/2019/1229/6785794/'}, {'title': 'web-scraping - Pocket', 'link': 'https://getpocket.com/explore/web-scraping'}, {'title': 'google-search – Hackernoon', 'link': 'http://35.244.241.141/tagged/google-search'}, {'title': 'linksc | Hacker Noon', 'link': 'https://35.193.55.160/u/zcnBZRCiyXXs4R'}]\n"
          ],
          "name": "stdout"
        }
      ]
    },
    {
      "cell_type": "code",
      "metadata": {
        "id": "g0SfdxW30YwS",
        "colab_type": "code",
        "colab": {}
      },
      "source": [
        ""
      ],
      "execution_count": null,
      "outputs": []
    }
  ]
}